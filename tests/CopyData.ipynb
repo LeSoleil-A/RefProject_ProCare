{
 "cells": [
  {
   "cell_type": "code",
   "execution_count": 2,
   "id": "3f20063e",
   "metadata": {},
   "outputs": [
    {
     "name": "stdout",
     "output_type": "stream",
     "text": [
      "31627\n",
      "1fc2_MAN_D_1.pdb\n",
      "./POC/1fc2_MAN_D_1.pdb\n"
     ]
    }
   ],
   "source": [
    "import os\n",
    "from shutil import copyfile\n",
    "\n",
    "filePath = './POC'\n",
    "file_name = os.listdir(filePath)\n",
    "file_list = [os.path.join(filePath, file) for file in file_name]\n",
    "print(len(file_list))\n",
    "print(file_name[0])\n",
    "print(file_list[0])"
   ]
  },
  {
   "cell_type": "code",
   "execution_count": 2,
   "id": "a35bcb85",
   "metadata": {},
   "outputs": [
    {
     "name": "stdout",
     "output_type": "stream",
     "text": [
      "1fc2_MAN_D_1.pdb\n",
      "./poc_sample/1fc2_MAN_D_1.pdb\n"
     ]
    }
   ],
   "source": [
    "copy_path = './poc_sample'\n",
    "copy_list = [os.path.join(copy_path, file) for file in file_name]\n",
    "print(file_name[0])\n",
    "print(copy_list[0])"
   ]
  },
  {
   "cell_type": "code",
   "execution_count": 18,
   "id": "7e2e40df",
   "metadata": {},
   "outputs": [],
   "source": [
    "# sample 4*5 files\n",
    "count = {}\n",
    "sample = []\n",
    "index = 0\n",
    "\n",
    "for i in range(len(file_name)):\n",
    "    if file_name[i][-4:] == '.pdb':\n",
    "        name = file_name[i].split('_')\n",
    "        if name[1] == 'ATP':\n",
    "            copyfile(file_list[i], copy_list[i])\n",
    "            index = index + 1\n",
    "            if index == 5:\n",
    "                break\n",
    "            \n",
    "        # copyfile(file_list[i], copy_list[i])"
   ]
  },
  {
   "cell_type": "code",
   "execution_count": 14,
   "id": "5e76fc5f",
   "metadata": {},
   "outputs": [
    {
     "name": "stdout",
     "output_type": "stream",
     "text": [
      "['ADP', 'HEM', 'GDP', 'ADP']\n"
     ]
    }
   ],
   "source": [
    "print(sample)"
   ]
  },
  {
   "cell_type": "code",
   "execution_count": null,
   "id": "946233d1",
   "metadata": {},
   "outputs": [],
   "source": [
    "# sample 5 ADP, 5 MAN, 5 HEM, 5 ATP"
   ]
  },
  {
   "cell_type": "code",
   "execution_count": 3,
   "id": "0c67f72a-c66a-4631-a6c9-f4ad66ece8af",
   "metadata": {},
   "outputs": [
    {
     "name": "stdout",
     "output_type": "stream",
     "text": [
      "['./poc_sample/3tui_ADP_C_1.pdb', './poc_sample/1p9b_GDP_A_1.pdb', './poc_sample/1g9v_HEM_A_1.pdb', './poc_sample/2po0_ADP_A_1.pdb', './poc_sample/1h74_ADP_A_1.pdb', './poc_sample/2zfb_HEM_A_1.pdb', './poc_sample/1ls9_HEM_A_1.pdb', './poc_sample/3jv2_ADP_A_1.pdb', './poc_sample/1u0x_HEM_A_1.pdb', './poc_sample/3du7_GDP_D_1.pdb', './poc_sample/4g5r_GDP_A_1.pdb', './poc_sample/1sd0_ADP_A_1.pdb', './poc_sample/3cy0_HEM_A_1.pdb', './poc_sample/4arz_GDP_B_1.pdb', './poc_sample/1b38_ATP_A_1.pdb', './poc_sample/1ek0_GDP_A_1.pdb', './poc_sample/1f2u_ATP_A_1.pdb', './poc_sample/3e1y_ATP_A_1.pdb', './poc_sample/3lev_ATP_H_1.pdb', './poc_sample/1e79_ATP_A_1.pdb']\n"
     ]
    }
   ],
   "source": [
    "# write .sh\n",
    "sh_file = open('test.sh', 'w')\n",
    "samPath = './poc_sample'\n",
    "sam_name = os.listdir(samPath)\n",
    "sam_list = [os.path.join(samPath, file) for file in sam_name]\n",
    "print(sam_list)"
   ]
  },
  {
   "cell_type": "code",
   "execution_count": 5,
   "id": "eb07c68c-590b-48b2-a8d5-3df29f7b1caa",
   "metadata": {},
   "outputs": [],
   "source": [
    "strings = []\n",
    "for i in range(len(sam_list)):\n",
    "    str = \"python pdb_launcher.py -s ./poc_sample/3tui_ADP_C_1.pdb -t \" + sam_list[i] + \"\\n\"\n",
    "    strings.append(str)\n",
    "    with open('test.sh', \"w\") as sh:\n",
    "        sh.writelines(strings)"
   ]
  },
  {
   "cell_type": "code",
   "execution_count": null,
   "id": "b4d66eb5-2907-47bb-973c-a9c725e37093",
   "metadata": {},
   "outputs": [],
   "source": []
  }
 ],
 "metadata": {
  "kernelspec": {
   "display_name": "Python 3 (ipykernel)",
   "language": "python",
   "name": "python3"
  },
  "language_info": {
   "codemirror_mode": {
    "name": "ipython",
    "version": 3
   },
   "file_extension": ".py",
   "mimetype": "text/x-python",
   "name": "python",
   "nbconvert_exporter": "python",
   "pygments_lexer": "ipython3",
   "version": "3.10.12"
  }
 },
 "nbformat": 4,
 "nbformat_minor": 5
}
