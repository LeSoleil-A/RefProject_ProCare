{
 "cells": [
  {
   "cell_type": "code",
   "execution_count": 2,
   "id": "3f20063e",
   "metadata": {},
   "outputs": [
    {
     "ename": "FileNotFoundError",
     "evalue": "[Errno 2] No such file or directory: './POC'",
     "output_type": "error",
     "traceback": [
      "\u001b[0;31m---------------------------------------------------------------------------\u001b[0m",
      "\u001b[0;31mFileNotFoundError\u001b[0m                         Traceback (most recent call last)",
      "Cell \u001b[0;32mIn[2], line 5\u001b[0m\n\u001b[1;32m      2\u001b[0m \u001b[38;5;28;01mfrom\u001b[39;00m \u001b[38;5;21;01mshutil\u001b[39;00m \u001b[38;5;28;01mimport\u001b[39;00m copyfile\n\u001b[1;32m      4\u001b[0m filePath \u001b[38;5;241m=\u001b[39m \u001b[38;5;124m'\u001b[39m\u001b[38;5;124m./POC\u001b[39m\u001b[38;5;124m'\u001b[39m\n\u001b[0;32m----> 5\u001b[0m file_name \u001b[38;5;241m=\u001b[39m \u001b[43mos\u001b[49m\u001b[38;5;241;43m.\u001b[39;49m\u001b[43mlistdir\u001b[49m\u001b[43m(\u001b[49m\u001b[43mfilePath\u001b[49m\u001b[43m)\u001b[49m\n\u001b[1;32m      6\u001b[0m file_list \u001b[38;5;241m=\u001b[39m [os\u001b[38;5;241m.\u001b[39mpath\u001b[38;5;241m.\u001b[39mjoin(filePath, file) \u001b[38;5;28;01mfor\u001b[39;00m file \u001b[38;5;129;01min\u001b[39;00m file_name]\n\u001b[1;32m      7\u001b[0m \u001b[38;5;28mprint\u001b[39m(\u001b[38;5;28mlen\u001b[39m(file_list))\n",
      "\u001b[0;31mFileNotFoundError\u001b[0m: [Errno 2] No such file or directory: './POC'"
     ]
    }
   ],
   "source": [
    "import os\n",
    "from shutil import copyfile\n",
    "\n",
    "filePath = './POC'\n",
    "file_name = os.listdir(filePath)\n",
    "file_list = [os.path.join(filePath, file) for file in file_name]\n",
    "print(len(file_list))\n",
    "print(file_name[0])\n",
    "print(file_list[0])"
   ]
  },
  {
   "cell_type": "code",
   "execution_count": 1,
   "id": "a35bcb85",
   "metadata": {},
   "outputs": [
    {
     "ename": "NameError",
     "evalue": "name 'file_name' is not defined",
     "output_type": "error",
     "traceback": [
      "\u001b[0;31m---------------------------------------------------------------------------\u001b[0m",
      "\u001b[0;31mNameError\u001b[0m                                 Traceback (most recent call last)",
      "Cell \u001b[0;32mIn[1], line 2\u001b[0m\n\u001b[1;32m      1\u001b[0m copy_path \u001b[38;5;241m=\u001b[39m \u001b[38;5;124m'\u001b[39m\u001b[38;5;124m./poc_sample\u001b[39m\u001b[38;5;124m'\u001b[39m\n\u001b[0;32m----> 2\u001b[0m copy_list \u001b[38;5;241m=\u001b[39m [os\u001b[38;5;241m.\u001b[39mpath\u001b[38;5;241m.\u001b[39mjoin(copy_path, file) \u001b[38;5;28;01mfor\u001b[39;00m file \u001b[38;5;129;01min\u001b[39;00m \u001b[43mfile_name\u001b[49m]\n\u001b[1;32m      3\u001b[0m \u001b[38;5;28mprint\u001b[39m(file_name[\u001b[38;5;241m0\u001b[39m])\n\u001b[1;32m      4\u001b[0m \u001b[38;5;28mprint\u001b[39m(copy_list[\u001b[38;5;241m0\u001b[39m])\n",
      "\u001b[0;31mNameError\u001b[0m: name 'file_name' is not defined"
     ]
    }
   ],
   "source": [
    "copy_path = './poc_sample'\n",
    "copy_list = [os.path.join(copy_path, file) for file in file_name]\n",
    "print(file_name[0])\n",
    "print(copy_list[0])"
   ]
  },
  {
   "cell_type": "code",
   "execution_count": 18,
   "id": "7e2e40df",
   "metadata": {},
   "outputs": [],
   "source": [
    "# sample 4*5 files\n",
    "count = {}\n",
    "sample = []\n",
    "index = 0\n",
    "\n",
    "for i in range(len(file_name)):\n",
    "    if file_name[i][-4:] == '.pdb':\n",
    "        name = file_name[i].split('_')\n",
    "        if name[1] == 'ATP':\n",
    "            copyfile(file_list[i], copy_list[i])\n",
    "            index = index + 1\n",
    "            if index == 5:\n",
    "                break\n",
    "            \n",
    "        # copyfile(file_list[i], copy_list[i])"
   ]
  },
  {
   "cell_type": "code",
   "execution_count": 14,
   "id": "5e76fc5f",
   "metadata": {},
   "outputs": [
    {
     "name": "stdout",
     "output_type": "stream",
     "text": [
      "['ADP', 'HEM', 'GDP', 'ADP']\n"
     ]
    }
   ],
   "source": [
    "print(sample)"
   ]
  },
  {
   "cell_type": "code",
   "execution_count": null,
   "id": "946233d1",
   "metadata": {},
   "outputs": [],
   "source": [
    "# sample 5 ADP, 5 MAN, 5 HEM, 5 ATP"
   ]
  },
  {
   "cell_type": "code",
   "execution_count": 3,
   "id": "0c67f72a-c66a-4631-a6c9-f4ad66ece8af",
   "metadata": {},
   "outputs": [
    {
     "name": "stdout",
     "output_type": "stream",
     "text": [
      "['./poc_sample/3tui_ADP_C_1.pdb', './poc_sample/1p9b_GDP_A_1.pdb', './poc_sample/1g9v_HEM_A_1.pdb', './poc_sample/2po0_ADP_A_1.pdb', './poc_sample/1h74_ADP_A_1.pdb', './poc_sample/2zfb_HEM_A_1.pdb', './poc_sample/1ls9_HEM_A_1.pdb', './poc_sample/3jv2_ADP_A_1.pdb', './poc_sample/1u0x_HEM_A_1.pdb', './poc_sample/3du7_GDP_D_1.pdb', './poc_sample/4g5r_GDP_A_1.pdb', './poc_sample/1sd0_ADP_A_1.pdb', './poc_sample/3cy0_HEM_A_1.pdb', './poc_sample/4arz_GDP_B_1.pdb', './poc_sample/1b38_ATP_A_1.pdb', './poc_sample/1ek0_GDP_A_1.pdb', './poc_sample/1f2u_ATP_A_1.pdb', './poc_sample/3e1y_ATP_A_1.pdb', './poc_sample/3lev_ATP_H_1.pdb', './poc_sample/1e79_ATP_A_1.pdb']\n"
     ]
    }
   ],
   "source": [
    "# write .sh\n",
    "sh_file = open('test_all.sh', 'w')\n",
    "samPath = './poc_sample'\n",
    "sam_name = os.listdir(samPath)\n",
    "sam_list = [os.path.join(samPath, file) for file in sam_name]\n",
    "print(sam_list)"
   ]
  },
  {
   "cell_type": "code",
   "execution_count": 5,
   "id": "eb07c68c-590b-48b2-a8d5-3df29f7b1caa",
   "metadata": {},
   "outputs": [],
   "source": [
    "# strings = []\n",
    "# for i in range(len(sam_list)):\n",
    "#     str = \"python pdb_launcher.py -s ./poc_sample/3tui_ADP_C_1.pdb -t \" + sam_list[i] + \"\\n\"\n",
    "#     strings.append(str)\n",
    "#     with open('test.sh', \"w\") as sh:\n",
    "#         sh.writelines(strings)"
   ]
  },
  {
   "cell_type": "code",
   "execution_count": 5,
   "id": "b4d66eb5-2907-47bb-973c-a9c725e37093",
   "metadata": {},
   "outputs": [],
   "source": [
    "strings = []\n",
    "for i in range(len(sam_list)):\n",
    "    for j in range(len(sam_list)):\n",
    "        str = \"python pdb_launcher.py -s \" + sam_list[i] + \" -t \" + sam_list[j] + \"\\n\"\n",
    "        strings.append(str)\n",
    "with open('test_all.sh', \"w\") as sh:\n",
    "    sh.writelines(strings)"
   ]
  },
  {
   "cell_type": "code",
   "execution_count": 4,
   "id": "2b76c674-a46f-49ac-a55f-c8d3524ad95a",
   "metadata": {},
   "outputs": [
    {
     "name": "stdout",
     "output_type": "stream",
     "text": [
      "['./poc_sample/3tui_ADP_C_1.pdb', './poc_sample/1p9b_GDP_A_1.pdb', './poc_sample/1g9v_HEM_A_1.pdb', './poc_sample/2po0_ADP_A_1.pdb', './poc_sample/1h74_ADP_A_1.pdb', './poc_sample/2zfb_HEM_A_1.pdb', './poc_sample/1ls9_HEM_A_1.pdb', './poc_sample/3jv2_ADP_A_1.pdb', './poc_sample/1u0x_HEM_A_1.pdb', './poc_sample/4g5r_GDP_A_1.pdb', './poc_sample/1sd0_ADP_A_1.pdb', './poc_sample/3cy0_HEM_A_1.pdb', './poc_sample/4arz_GDP_B_1.pdb', './poc_sample/1b38_ATP_A_1.pdb', './poc_sample/1ek0_GDP_A_1.pdb', './poc_sample/1f2u_ATP_A_1.pdb', './poc_sample/3e1y_ATP_A_1.pdb', './poc_sample/3lev_ATP_H_1.pdb', './poc_sample/1e79_ATP_A_1.pdb']\n"
     ]
    }
   ],
   "source": [
    "# for ppsalign\n",
    "samPath = './poc_sample'\n",
    "sam_name = os.listdir(samPath)\n",
    "sam_list = [os.path.join(samPath, file) for file in sam_name]\n",
    "print(sam_list)\n",
    "\n",
    "strings = []\n",
    "for i in range(len(sam_list)):\n",
    "    for j in range(len(sam_list)):\n",
    "        str = \"./demo \" + sam_list[i] + \" \" + sam_list[j] + \"\\n\"\n",
    "        strings.append(str)\n",
    "with open('test_pps.sh', \"w\") as sh:\n",
    "    sh.writelines(strings)"
   ]
  },
  {
   "cell_type": "code",
   "execution_count": null,
   "id": "e802db8c-f1ce-4efb-8ac6-b7f22fc93cf6",
   "metadata": {},
   "outputs": [],
   "source": []
  },
  {
   "cell_type": "code",
   "execution_count": 7,
   "id": "708cfbe4-43bc-4ad1-9829-1f998a65ef59",
   "metadata": {},
   "outputs": [
    {
     "name": "stdout",
     "output_type": "stream",
     "text": [
      "0\n",
      "1\n",
      "2\n",
      "3\n",
      "4\n",
      "5\n",
      "6\n",
      "7\n",
      "8\n",
      "9\n",
      "10\n",
      "11\n",
      "12\n",
      "13\n",
      "14\n",
      "15\n",
      "16\n",
      "17\n",
      "18\n",
      "19\n",
      "{'N': 314, 'CA': 314, 'C': 314, 'O': 314, 'CB': 288, 'CG': 194, 'CD1': 75, 'CD2': 84, 'CE1': 48, 'CE2': 32, 'CZ': 47, 'CD': 72, 'OE1': 19, 'NE2': 28, 'CG1': 32, 'CG2': 53, 'OG': 19, 'CE': 37, 'NZ': 28, 'OG1': 21, 'OD1': 29, 'OD2': 15, 'OE2': 9, 'ND1': 18, 'NE': 17, 'NH1': 17, 'NH2': 17, 'SD': 9, 'OH': 7, 'ND2': 14, 'SG': 5, 'NE1': 2, 'CE3': 2, 'CZ2': 2, 'CZ3': 2, 'CH2': 2}\n"
     ]
    }
   ],
   "source": [
    "# calculate atom types\n",
    "import os\n",
    "\n",
    "calPath = './poc_sample'\n",
    "cal_name = os.listdir(calPath)\n",
    "cal_list = [os.path.join(calPath, file) for file in cal_name]\n",
    "\n",
    "atom_types = {}\n",
    "\n",
    "for i in range(len(cal_list)):\n",
    "    print(i)\n",
    "    with open(cal_list[i], \"r\") as f:\n",
    "        line = f.readline()\n",
    "        while line[0:4]!=\"ATOM\":\n",
    "            line = f.readline()        \n",
    "\n",
    "        while line:\n",
    "            dat_in = line[0:80].split()\n",
    "            # delete empty lines\n",
    "            if len(dat_in) == 0:\n",
    "                line = f.readline()\n",
    "                continue\n",
    "\n",
    "            if dat_in[0]==\"ATOM\":\n",
    "                atom_t = line[12:16].strip()\n",
    "                if atom_t in atom_types:\n",
    "                    atom_types[atom_t] = atom_types[atom_t]+1\n",
    "                else:\n",
    "                    atom_types[atom_t] = 1\n",
    "\n",
    "            line = f.readline()\n",
    "\n",
    "\n",
    "print(atom_types)"
   ]
  },
  {
   "cell_type": "code",
   "execution_count": null,
   "id": "8890066b-de5e-466b-b2e2-842097642657",
   "metadata": {},
   "outputs": [],
   "source": []
  }
 ],
 "metadata": {
  "kernelspec": {
   "display_name": "Python 3 (ipykernel)",
   "language": "python",
   "name": "python3"
  },
  "language_info": {
   "codemirror_mode": {
    "name": "ipython",
    "version": 3
   },
   "file_extension": ".py",
   "mimetype": "text/x-python",
   "name": "python",
   "nbconvert_exporter": "python",
   "pygments_lexer": "ipython3",
   "version": "3.10.12"
  }
 },
 "nbformat": 4,
 "nbformat_minor": 5
}
